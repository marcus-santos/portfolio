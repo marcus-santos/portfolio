{
 "cells": [
  {
   "cell_type": "markdown",
   "id": "04c1d84f-5d44-4bf9-8bdc-f5cecd5a2024",
   "metadata": {
    "tags": []
   },
   "source": [
    "# Data Wrangle\n",
    "\n",
    "In this Notebook we are preparing the chosen data files for processing"
   ]
  },
  {
   "cell_type": "markdown",
   "id": "7a819ea0-e6cb-4795-9286-9eeb7c4f5a1b",
   "metadata": {
    "tags": []
   },
   "source": [
    "#### Baisc functions for reusing"
   ]
  },
  {
   "cell_type": "code",
   "execution_count": 1,
   "id": "70a78316-7459-4001-8a45-25957772f3cd",
   "metadata": {},
   "outputs": [],
   "source": [
    "import re\n",
    "import pandas as pd\n",
    "import numpy as np\n",
    "\n",
    "\n",
    "def read_data(csv):\n",
    "    return pd.read_csv(csv, verbose=False, parse_dates=True, \n",
    "                       index_col=\"Data\", encoding=\"iso-8859-1\", \n",
    "                       usecols=[0, 1, 2], na_values=\"-\");\n",
    "\n",
    "def transform(df, replace='<XBSP>|<BraANB>|<BraNa>|<XBMF>|<UsaNa>'):\n",
    "    rename_regex = re.compile(replace)\n",
    "    rename_func = lambda c: rename_regex.sub('', c)\n",
    "    return ( df.copy()\n",
    "            .pivot(columns=\"Ativo\", values='Fechamento|ajust p/ prov|Em moeda orig')\n",
    "            .rename(rename_func, axis='columns')\n",
    "            .resample(\"B\").last()\n",
    "            .ffill() )"
   ]
  },
  {
   "cell_type": "markdown",
   "id": "2b813c25-4ec5-44f8-b269-85b9469b433e",
   "metadata": {
    "tags": []
   },
   "source": [
    "#### Chosen files\n",
    "\n",
    "Brazil an US data obtained in Economatica"
   ]
  },
  {
   "cell_type": "code",
   "execution_count": 2,
   "id": "32e812b6-5c58-4404-93ee-28d5da493f58",
   "metadata": {},
   "outputs": [],
   "source": [
    "files = ['Economatica-Ind-Matrixx-20220522200142.csv', \n",
    "         'Economatica-8900702832-20220523200307-NASDAQ.csv',\n",
    "         'Economatica-8900702832-20220523200307-DJIA.csv',\n",
    "         'Economatica-8900702832-20220523200307-S&P 500.csv',\n",
    "         'Economatica-8900702832-20220523200307-EURUSD.csv',\n",
    "         'Economatica-8900702832-20220523200307-WTICO.csv',\n",
    "        ]"
   ]
  },
  {
   "cell_type": "markdown",
   "id": "85428a23-a9d3-406b-b61a-1b7b3d0f4fa8",
   "metadata": {},
   "source": [
    "#### Read and save the transformed data\n",
    "\n",
    "Data will exclude weekend quotes (businness day only)"
   ]
  },
  {
   "cell_type": "code",
   "execution_count": 3,
   "id": "198a7a36-5908-42b6-aeed-ad2d2a34d2f2",
   "metadata": {
    "scrolled": true,
    "tags": []
   },
   "outputs": [],
   "source": [
    "df = pd.concat([read_data(f\"data/{csv}\") for csv in files])\n",
    "df = transform(df)\n",
    "df.to_csv('processed/data.csv')"
   ]
  },
  {
   "cell_type": "markdown",
   "id": "63eca647-047d-4c11-a1f9-24aa21fb37b3",
   "metadata": {},
   "source": [
    "#### Data Info"
   ]
  },
  {
   "cell_type": "code",
   "execution_count": 4,
   "id": "06b74283-75c6-4ddc-af1f-0ff0bfee49a9",
   "metadata": {
    "scrolled": true,
    "tags": []
   },
   "outputs": [
    {
     "name": "stdout",
     "output_type": "stream",
     "text": [
      "<class 'pandas.core.frame.DataFrame'>\n",
      "DatetimeIndex: 5861 entries, 1999-12-31 to 2022-06-17\n",
      "Freq: B\n",
      "Data columns (total 82 columns):\n",
      " #   Column            Non-Null Count  Dtype  \n",
      "---  ------            --------------  -----  \n",
      " 0   BDRX              3054 non-null   float64\n",
      " 1   CDI 252 dias      5861 non-null   float64\n",
      " 2   CDI Acumulado     5861 non-null   float64\n",
      " 3   CDI Efetiva Mes   5861 non-null   float64\n",
      " 4   DJIA              5861 non-null   float64\n",
      " 5   DOLM22            5860 non-null   float64\n",
      " 6   DOLOF             5861 non-null   float64\n",
      " 7   EUROBR            5861 non-null   float64\n",
      " 8   EURUSD            5861 non-null   float64\n",
      " 9   IBOV              5860 non-null   float64\n",
      " 10  IBRA              4295 non-null   float64\n",
      " 11  IBXL              5860 non-null   float64\n",
      " 12  IBXX              5860 non-null   float64\n",
      " 13  ICO2              3079 non-null   float64\n",
      " 14  ICON              4034 non-null   float64\n",
      " 15  IDA DI            3510 non-null   float64\n",
      " 16  IDA Geral         3510 non-null   float64\n",
      " 17  IDA IPCA          3510 non-null   float64\n",
      " 18  IDIV              4297 non-null   float64\n",
      " 19  IDKA IPCA 10A     4296 non-null   float64\n",
      " 20  IDKA IPCA 15A     4296 non-null   float64\n",
      " 21  IDKA IPCA 20A     4296 non-null   float64\n",
      " 22  IDKA IPCA 2A      4296 non-null   float64\n",
      " 23  IDKA IPCA 30A     4296 non-null   float64\n",
      " 24  IDKA IPCA 3A      4296 non-null   float64\n",
      " 25  IDKA IPCA 5A      4296 non-null   float64\n",
      " 26  IDKA PRE 1A       4296 non-null   float64\n",
      " 27  IDKA PRE 2A       4296 non-null   float64\n",
      " 28  IDKA PRE 3A       4296 non-null   float64\n",
      " 29  IDKA PRE 3M       4296 non-null   float64\n",
      " 30  IDKA PRE 5A       4296 non-null   float64\n",
      " 31  IEEX              5860 non-null   float64\n",
      " 32  IFIX              2992 non-null   float64\n",
      " 33  IFNC              4557 non-null   float64\n",
      " 34  IGCT              4297 non-null   float64\n",
      " 35  IGCX              5475 non-null   float64\n",
      " 36  IGNM              4037 non-null   float64\n",
      " 37  IGPDI - Taxa mes  5840 non-null   float64\n",
      " 38  IGPDI             5840 non-null   float64\n",
      " 39  IGPM - Taxa mes   5840 non-null   float64\n",
      " 40  IGPM              5840 non-null   float64\n",
      " 41  IHFA              3840 non-null   float64\n",
      " 42  IMA ex-C          4492 non-null   float64\n",
      " 43  IMA-B 5+          4894 non-null   float64\n",
      " 44  IMA-B 5           4894 non-null   float64\n",
      " 45  IMA-B             4894 non-null   float64\n",
      " 46  IMA-G             5359 non-null   float64\n",
      " 47  IMA-S             5360 non-null   float64\n",
      " 48  IMAT              4297 non-null   float64\n",
      " 49  IMOB              3773 non-null   float64\n",
      " 50  INCC DI - Tx mes  5840 non-null   float64\n",
      " 51  INCC-DI           5840 non-null   float64\n",
      " 52  INDM22            5860 non-null   float64\n",
      " 53  INDX              5860 non-null   float64\n",
      " 54  INPC Taxa mes     5840 non-null   float64\n",
      " 55  INPC              5840 non-null   float64\n",
      " 56  IPC Fipe Tax mes  5840 non-null   float64\n",
      " 57  IPC               5840 non-null   float64\n",
      " 58  IPCA - Taxa mes   5840 non-null   float64\n",
      " 59  IPCA              5840 non-null   float64\n",
      " 60  IRF-M 1+          5621 non-null   float64\n",
      " 61  IRF-M 1           5621 non-null   float64\n",
      " 62  IRF-M             5839 non-null   float64\n",
      " 63  ISEE              4318 non-null   float64\n",
      " 64  ITAG              5077 non-null   float64\n",
      " 65  IVBX              5860 non-null   float64\n",
      " 66  LFT 252 dias      5861 non-null   float64\n",
      " 67  LFT Acumulado     5861 non-null   float64\n",
      " 68  LFT Efetiva Mes   5861 non-null   float64\n",
      " 69  MLCX              3688 non-null   float64\n",
      " 70  NASDAQ            5861 non-null   float64\n",
      " 71  OTNBTN            5861 non-null   float64\n",
      " 72  OZ1D              5860 non-null   float64\n",
      " 73  Poup Taxa Mes     5861 non-null   float64\n",
      " 74  Poup Tx Mes Nova  2620 non-null   float64\n",
      " 75  PoupAcum          5861 non-null   float64\n",
      " 76  S&P 500           5861 non-null   float64\n",
      " 77  SMLL              3688 non-null   float64\n",
      " 78  TBF               5861 non-null   float64\n",
      " 79  TR taxa mensal    5861 non-null   float64\n",
      " 80  UTIL              4383 non-null   float64\n",
      " 81  WTICO             3638 non-null   float64\n",
      "dtypes: float64(82)\n",
      "memory usage: 3.7 MB\n"
     ]
    }
   ],
   "source": [
    "df.info()"
   ]
  },
  {
   "cell_type": "code",
   "execution_count": null,
   "id": "d486dbc6-4984-470c-9a34-2f2bae7ef5fc",
   "metadata": {},
   "outputs": [],
   "source": []
  }
 ],
 "metadata": {
  "kernelspec": {
   "display_name": "Python 3 (ipykernel)",
   "language": "python",
   "name": "python3"
  },
  "language_info": {
   "codemirror_mode": {
    "name": "ipython",
    "version": 3
   },
   "file_extension": ".py",
   "mimetype": "text/x-python",
   "name": "python",
   "nbconvert_exporter": "python",
   "pygments_lexer": "ipython3",
   "version": "3.9.13"
  }
 },
 "nbformat": 4,
 "nbformat_minor": 5
}
